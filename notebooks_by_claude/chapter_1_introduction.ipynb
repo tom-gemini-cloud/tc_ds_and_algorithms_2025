{
 "cells": [
  {
   "cell_type": "markdown",
   "metadata": {},
   "source": [
    "# Chapter 1: Introduction\n",
    "\n",
    "Welcome to the world of data structures and algorithms in Python! This chapter introduces fundamental concepts and sets the foundation for understanding how we organize and manipulate data efficiently."
   ]
  },
  {
   "cell_type": "markdown",
   "metadata": {},
   "source": [
    "## 1.1 Objectives\n",
    "\n",
    "By the end of this chapter, you will be able to:\n",
    "\n",
    "- Understand what computer science is about\n",
    "- Review the fundamentals of Python programming\n",
    "- Understand what an algorithm is and why algorithm analysis is important\n",
    "- Be familiar with Python data types\n",
    "- Write Python functions and understand their role in the problem-solving process\n",
    "- Understand object-oriented programming in Python\n",
    "- Use Python's built-in data structures effectively"
   ]
  },
  {
   "cell_type": "markdown",
   "metadata": {},
   "source": [
    "## 1.2 What Is Computer Science?\n",
    "\n",
    "Computer science is the study of problems, problem-solving, and the solutions that emerge from the problem-solving process. It encompasses:\n",
    "\n",
    "- **Algorithm development**: Creating step-by-step solutions\n",
    "- **Data representation**: How we store and organize information\n",
    "- **Problem decomposition**: Breaking complex problems into manageable parts\n",
    "- **Abstraction**: Hiding unnecessary details to focus on essential features\n",
    "- **Efficiency**: Making solutions that work well with limited resources"
   ]
  },
  {
   "cell_type": "markdown",
   "metadata": {},
   "source": [
    "## 1.3 What Is Programming?\n",
    "\n",
    "Programming is the process of taking an algorithm and encoding it into a programming language so that it can be executed by a computer."
   ]
  },
  {
   "cell_type": "code",
   "execution_count": null,
   "metadata": {},
   "source": [
    "# Simple example: Finding the largest number in a list\n",
    "def find_largest(numbers):\n",
    "    \"\"\"Find the largest number in a list.\"\"\"\n",
    "    if not numbers:\n",
    "        return None\n",
    "    \n",
    "    largest = numbers[0]\n",
    "    for num in numbers[1:]:\n",
    "        if num > largest:\n",
    "            largest = num\n",
    "    return largest\n",
    "\n",
    "# Test the function\n",
    "test_numbers = [3, 7, 2, 9, 1, 8, 5]\n",
    "result = find_largest(test_numbers)\n",
    "print(f\"The largest number in {test_numbers} is {result}\")"
   ]
  },
  {
   "cell_type": "markdown",
   "metadata": {},
   "source": [
    "## 1.4 Why Study Data Structures and Algorithms?\n",
    "\n",
    "Understanding data structures and algorithms is crucial because:\n",
    "\n",
    "1. **Efficiency**: Different approaches have different performance characteristics\n",
    "2. **Scalability**: Solutions that work for small problems may not work for large ones\n",
    "3. **Problem-solving**: Many problems have been solved before - knowing common patterns helps\n",
    "4. **Resource management**: Memory and time are limited resources"
   ]
  },
  {
   "cell_type": "code",
   "execution_count": null,
   "metadata": {},
   "source": [
    "# Example: Two different approaches to check if a number is in a collection\n",
    "import time\n",
    "\n",
    "# Approach 1: Using a list (linear search)\n",
    "numbers_list = list(range(10000))\n",
    "\n",
    "start_time = time.time()\n",
    "result = 9999 in numbers_list\n",
    "list_time = time.time() - start_time\n",
    "\n",
    "print(f\"List search took: {list_time:.6f} seconds\")\n",
    "\n",
    "# Approach 2: Using a set (hash lookup)\n",
    "numbers_set = set(range(10000))\n",
    "\n",
    "start_time = time.time()\n",
    "result = 9999 in numbers_set\n",
    "set_time = time.time() - start_time\n",
    "\n",
    "print(f\"Set search took: {set_time:.6f} seconds\")\n",
    "print(f\"Set is {list_time/set_time:.1f}x faster!\")"
   ]
  },
  {
   "cell_type": "markdown",
   "metadata": {},
   "source": [
    "## 1.5 Python Review\n",
    "\n",
    "Let's review essential Python concepts that we'll use throughout this course."
   ]
  },
  {
   "cell_type": "markdown",
   "metadata": {},
   "source": [
    "### 1.5.1 Data Types"
   ]
  },
  {
   "cell_type": "code",
   "execution_count": null,
   "metadata": {},
   "source": [
    "# Basic data types\n",
    "integer_num = 42\n",
    "float_num = 3.14159\n",
    "string_text = \"Hello, World!\"\n",
    "boolean_flag = True\n",
    "none_value = None\n",
    "\n",
    "print(f\"Integer: {integer_num} (type: {type(integer_num)})\")\n",
    "print(f\"Float: {float_num} (type: {type(float_num)})\")\n",
    "print(f\"String: {string_text} (type: {type(string_text)})\")\n",
    "print(f\"Boolean: {boolean_flag} (type: {type(boolean_flag)})\")\n",
    "print(f\"None: {none_value} (type: {type(none_value)})\")"
   ]
  },
  {
   "cell_type": "markdown",
   "metadata": {},
   "source": [
    "### 1.5.2 Collection Data Types"
   ]
  },
  {
   "cell_type": "code",
   "execution_count": null,
   "metadata": {},
   "source": [
    "# Lists - ordered, mutable sequences\n",
    "fruits = ['apple', 'banana', 'cherry', 'date']\n",
    "print(f\"List: {fruits}\")\n",
    "fruits.append('elderberry')\n",
    "print(f\"After append: {fruits}\")\n",
    "\n",
    "# Tuples - ordered, immutable sequences\n",
    "coordinates = (10, 20)\n",
    "print(f\"Tuple: {coordinates}\")\n",
    "\n",
    "# Sets - unordered collections of unique elements\n",
    "unique_numbers = {1, 2, 3, 3, 4, 4, 5}\n",
    "print(f\"Set: {unique_numbers}\")\n",
    "\n",
    "# Dictionaries - key-value pairs\n",
    "student_grades = {'Alice': 95, 'Bob': 87, 'Charlie': 92}\n",
    "print(f\"Dictionary: {student_grades}\")\n",
    "print(f\"Alice's grade: {student_grades['Alice']}\")"
   ]
  },
  {
   "cell_type": "markdown",
   "metadata": {},
   "source": [
    "### 1.5.3 Control Structures"
   ]
  },
  {
   "cell_type": "code",
   "execution_count": null,
   "metadata": {},
   "source": [
    "# Conditional statements\n",
    "def categorize_number(n):\n",
    "    \"\"\"Categorize a number as positive, negative, or zero.\"\"\"\n",
    "    if n > 0:\n",
    "        return \"positive\"\n",
    "    elif n < 0:\n",
    "        return \"negative\"\n",
    "    else:\n",
    "        return \"zero\"\n",
    "\n",
    "# Test the function\n",
    "test_numbers = [5, -3, 0, 42]\n",
    "for num in test_numbers:\n",
    "    category = categorize_number(num)\n",
    "    print(f\"{num} is {category}\")"
   ]
  },
  {
   "cell_type": "code",
   "execution_count": null,
   "metadata": {},
   "source": [
    "# Loops\n",
    "print(\"For loop with range:\")\n",
    "for i in range(5):\n",
    "    print(f\"  Count: {i}\")\n",
    "\n",
    "print(\"\\nWhile loop:\")\n",
    "count = 0\n",
    "while count < 3:\n",
    "    print(f\"  While count: {count}\")\n",
    "    count += 1\n",
    "\n",
    "print(\"\\nFor loop with list:\")\n",
    "colors = ['red', 'green', 'blue']\n",
    "for color in colors:\n",
    "    print(f\"  Color: {color}\")"
   ]
  },
  {
   "cell_type": "markdown",
   "metadata": {},
   "source": [
    "### 1.5.4 Functions"
   ]
  },
  {
   "cell_type": "code",
   "execution_count": null,
   "metadata": {},
   "source": [
    "def calculate_factorial(n):\n",
    "    \"\"\"Calculate the factorial of a non-negative integer.\"\"\"\n",
    "    if n < 0:\n",
    "        raise ValueError(\"Factorial is not defined for negative numbers\")\n",
    "    if n == 0 or n == 1:\n",
    "        return 1\n",
    "    \n",
    "    result = 1\n",
    "    for i in range(2, n + 1):\n",
    "        result *= i\n",
    "    return result\n",
    "\n",
    "# Test the factorial function\n",
    "for i in range(6):\n",
    "    factorial = calculate_factorial(i)\n",
    "    print(f\"{i}! = {factorial}\")"
   ]
  },
  {
   "cell_type": "code",
   "execution_count": null,
   "metadata": {},
   "source": [
    "# Function with default parameters and multiple return values\n",
    "def analyze_list(numbers, sort_result=False):\n",
    "    \"\"\"Analyze a list of numbers and return statistics.\"\"\"\n",
    "    if not numbers:\n",
    "        return None, None, None, None\n",
    "    \n",
    "    total = sum(numbers)\n",
    "    count = len(numbers)\n",
    "    average = total / count\n",
    "    \n",
    "    sorted_numbers = sorted(numbers) if sort_result else numbers\n",
    "    \n",
    "    return total, count, average, sorted_numbers\n",
    "\n",
    "# Test the analysis function\n",
    "test_data = [3, 1, 4, 1, 5, 9, 2, 6]\n",
    "total, count, avg, sorted_data = analyze_list(test_data, sort_result=True)\n",
    "\n",
    "print(f\"Original: {test_data}\")\n",
    "print(f\"Total: {total}\")\n",
    "print(f\"Count: {count}\")\n",
    "print(f\"Average: {avg:.2f}\")\n",
    "print(f\"Sorted: {sorted_data}\")"
   ]
  },
  {
   "cell_type": "markdown",
   "metadata": {},
   "source": [
    "### 1.5.5 Exception Handling"
   ]
  },
  {
   "cell_type": "code",
   "execution_count": null,
   "metadata": {},
   "source": [
    "def safe_divide(a, b):\n",
    "    \"\"\"Safely divide two numbers with error handling.\"\"\"\n",
    "    try:\n",
    "        result = a / b\n",
    "        return result\n",
    "    except ZeroDivisionError:\n",
    "        print(\"Error: Cannot divide by zero!\")\n",
    "        return None\n",
    "    except TypeError:\n",
    "        print(\"Error: Invalid data types for division!\")\n",
    "        return None\n",
    "\n",
    "# Test exception handling\n",
    "test_cases = [(10, 2), (10, 0), (10, \"2\"), (\"10\", 2)]\n",
    "\n",
    "for a, b in test_cases:\n",
    "    result = safe_divide(a, b)\n",
    "    if result is not None:\n",
    "        print(f\"{a} / {b} = {result}\")\n",
    "    print()"
   ]
  },
  {
   "cell_type": "markdown",
   "metadata": {},
   "source": [
    "## 1.6 Object-Oriented Programming in Python\n",
    "\n",
    "Object-oriented programming (OOP) is a programming paradigm that uses objects and classes to structure code."
   ]
  },
  {
   "cell_type": "code",
   "execution_count": null,
   "metadata": {},
   "source": [
    "class Student:\n",
    "    \"\"\"A simple Student class to demonstrate OOP concepts.\"\"\"\n",
    "    \n",
    "    # Class variable (shared by all instances)\n",
    "    school_name = \"Data Structures University\"\n",
    "    \n",
    "    def __init__(self, name, student_id, major=\"Undeclared\"):\n",
    "        \"\"\"Initialize a new student.\"\"\"\n",
    "        # Instance variables (unique to each instance)\n",
    "        self.name = name\n",
    "        self.student_id = student_id\n",
    "        self.major = major\n",
    "        self.courses = []\n",
    "        self.gpa = 0.0\n",
    "    \n",
    "    def enroll_course(self, course_name):\n",
    "        \"\"\"Enroll the student in a course.\"\"\"\n",
    "        if course_name not in self.courses:\n",
    "            self.courses.append(course_name)\n",
    "            print(f\"{self.name} enrolled in {course_name}\")\n",
    "        else:\n",
    "            print(f\"{self.name} is already enrolled in {course_name}\")\n",
    "    \n",
    "    def update_gpa(self, new_gpa):\n",
    "        \"\"\"Update the student's GPA.\"\"\"\n",
    "        if 0.0 <= new_gpa <= 4.0:\n",
    "            self.gpa = new_gpa\n",
    "        else:\n",
    "            raise ValueError(\"GPA must be between 0.0 and 4.0\")\n",
    "    \n",
    "    def get_info(self):\n",
    "        \"\"\"Return formatted student information.\"\"\"\n",
    "        return f\"Student: {self.name} (ID: {self.student_id})\\nMajor: {self.major}\\nGPA: {self.gpa:.2f}\\nCourses: {', '.join(self.courses) if self.courses else 'None'}\"\n",
    "    \n",
    "    def __str__(self):\n",
    "        \"\"\"String representation of the student.\"\"\"\n",
    "        return f\"{self.name} ({self.student_id})\"\n",
    "    \n",
    "    def __repr__(self):\n",
    "        \"\"\"Developer representation of the student.\"\"\"\n",
    "        return f\"Student(name='{self.name}', student_id='{self.student_id}', major='{self.major}')\"\n",
    "\n",
    "# Create student instances\n",
    "alice = Student(\"Alice Johnson\", \"12345\", \"Computer Science\")\n",
    "bob = Student(\"Bob Smith\", \"67890\")\n",
    "\n",
    "# Use the methods\n",
    "alice.enroll_course(\"Data Structures\")\n",
    "alice.enroll_course(\"Algorithms\")\n",
    "alice.update_gpa(3.8)\n",
    "\n",
    "bob.enroll_course(\"Introduction to Programming\")\n",
    "bob.update_gpa(3.5)\n",
    "\n",
    "print(\"\\nStudent Information:\")\n",
    "print(alice.get_info())\n",
    "print(\"\\n\" + \"=\"*50 + \"\\n\")\n",
    "print(bob.get_info())\n",
    "print(f\"\\nSchool: {Student.school_name}\")"
   ]
  },
  {
   "cell_type": "markdown",
   "metadata": {},
   "source": [
    "## 1.7 Getting Started with Data\n",
    "\n",
    "Data is the foundation of all computer programs. Let's explore how Python handles different types of data."
   ]
  },
  {
   "cell_type": "code",
   "execution_count": null,
   "metadata": {},
   "source": [
    "# Working with different data structures\n",
    "def demonstrate_data_structures():\n",
    "    \"\"\"Demonstrate basic operations on Python data structures.\"\"\"\n",
    "    \n",
    "    print(\"=== LISTS ===\")\n",
    "    # Lists are ordered and mutable\n",
    "    shopping_list = ['apples', 'bread', 'milk']\n",
    "    print(f\"Original list: {shopping_list}\")\n",
    "    \n",
    "    # Adding items\n",
    "    shopping_list.append('eggs')\n",
    "    shopping_list.insert(1, 'bananas')\n",
    "    print(f\"After additions: {shopping_list}\")\n",
    "    \n",
    "    # Removing items\n",
    "    shopping_list.remove('bread')\n",
    "    popped_item = shopping_list.pop()\n",
    "    print(f\"After removals: {shopping_list}\")\n",
    "    print(f\"Popped item: {popped_item}\")\n",
    "    \n",
    "    print(\"\\n=== DICTIONARIES ===\")\n",
    "    # Dictionaries store key-value pairs\n",
    "    inventory = {\n",
    "        'apples': 50,\n",
    "        'bananas': 30,\n",
    "        'oranges': 25\n",
    "    }\n",
    "    print(f\"Inventory: {inventory}\")\n",
    "    \n",
    "    # Adding and updating\n",
    "    inventory['grapes'] = 40\n",
    "    inventory['apples'] += 10  # Restock apples\n",
    "    print(f\"Updated inventory: {inventory}\")\n",
    "    \n",
    "    # Accessing values\n",
    "    print(f\"Apples in stock: {inventory.get('apples', 0)}\")\n",
    "    print(f\"Mangoes in stock: {inventory.get('mangoes', 0)}\")\n",
    "    \n",
    "    print(\"\\n=== SETS ===\")\n",
    "    # Sets contain unique elements\n",
    "    colors1 = {'red', 'green', 'blue'}\n",
    "    colors2 = {'blue', 'yellow', 'purple'}\n",
    "    \n",
    "    print(f\"Colors 1: {colors1}\")\n",
    "    print(f\"Colors 2: {colors2}\")\n",
    "    \n",
    "    # Set operations\n",
    "    print(f\"Union: {colors1 | colors2}\")\n",
    "    print(f\"Intersection: {colors1 & colors2}\")\n",
    "    print(f\"Difference: {colors1 - colors2}\")\n",
    "    \n",
    "demonstrate_data_structures()"
   ]
  },
  {
   "cell_type": "markdown",
   "metadata": {},
   "source": [
    "## 1.8 Input and Output\n",
    "\n",
    "Programs need to interact with users and external data sources."
   ]
  },
  {
   "cell_type": "code",
   "execution_count": null,
   "metadata": {},
   "source": [
    "# String formatting examples\n",
    "name = \"Alice\"\n",
    "age = 25\n",
    "height = 5.6\n",
    "\n",
    "# Different ways to format strings\n",
    "print(\"=== STRING FORMATTING ===\")\n",
    "\n",
    "# Method 1: % formatting (older style)\n",
    "print(\"Hello, %s! You are %d years old.\" % (name, age))\n",
    "\n",
    "# Method 2: .format() method\n",
    "print(\"Hello, {}! You are {} years old and {:.1f} feet tall.\".format(name, age, height))\n",
    "\n",
    "# Method 3: f-strings (Python 3.6+, recommended)\n",
    "print(f\"Hello, {name}! You are {age} years old and {height:.1f} feet tall.\")\n",
    "\n",
    "# Advanced formatting\n",
    "pi = 3.14159265359\n",
    "print(f\"Pi to 2 decimal places: {pi:.2f}\")\n",
    "print(f\"Pi in scientific notation: {pi:.2e}\")\n",
    "print(f\"Number with padding: {age:05d}\")\n",
    "print(f\"Right-aligned text: '{name:>10}'\")\n",
    "print(f\"Left-aligned text: '{name:<10}'\")\n",
    "print(f\"Centered text: '{name:^10}'\")"
   ]
  },
  {
   "cell_type": "markdown",
   "metadata": {},
   "source": [
    "## 1.9 Control Structures\n",
    "\n",
    "Control structures determine the flow of program execution."
   ]
  },
  {
   "cell_type": "code",
   "execution_count": null,
   "metadata": {},
   "source": [
    "def demonstrate_control_structures():\n",
    "    \"\"\"Demonstrate various control structures in Python.\"\"\"\n",
    "    \n",
    "    print(\"=== LIST COMPREHENSIONS ===\")\n",
    "    # List comprehensions provide a concise way to create lists\n",
    "    numbers = [1, 2, 3, 4, 5, 6, 7, 8, 9, 10]\n",
    "    \n",
    "    # Traditional approach\n",
    "    even_squares_traditional = []\n",
    "    for num in numbers:\n",
    "        if num % 2 == 0:\n",
    "            even_squares_traditional.append(num ** 2)\n",
    "    \n",
    "    # List comprehension approach\n",
    "    even_squares_comprehension = [num ** 2 for num in numbers if num % 2 == 0]\n",
    "    \n",
    "    print(f\"Traditional: {even_squares_traditional}\")\n",
    "    print(f\"Comprehension: {even_squares_comprehension}\")\n",
    "    \n",
    "    print(\"\\n=== DICTIONARY COMPREHENSIONS ===\")\n",
    "    # Dictionary comprehensions\n",
    "    word_lengths = {word: len(word) for word in ['apple', 'banana', 'cherry', 'date']}\n",
    "    print(f\"Word lengths: {word_lengths}\")\n",
    "    \n",
    "    print(\"\\n=== ENUMERATE AND ZIP ===\")\n",
    "    # Enumerate gives us both index and value\n",
    "    fruits = ['apple', 'banana', 'cherry']\n",
    "    for index, fruit in enumerate(fruits):\n",
    "        print(f\"{index}: {fruit}\")\n",
    "    \n",
    "    # Zip combines multiple iterables\n",
    "    names = ['Alice', 'Bob', 'Charlie']\n",
    "    ages = [25, 30, 35]\n",
    "    for name, age in zip(names, ages):\n",
    "        print(f\"{name} is {age} years old\")\n",
    "\n",
    "demonstrate_control_structures()"
   ]
  },
  {
   "cell_type": "markdown",
   "metadata": {},
   "source": [
    "## 1.10 Summary\n",
    "\n",
    "This chapter introduced the fundamental concepts that will be essential throughout our study of data structures and algorithms:\n",
    "\n",
    "### Key Concepts:\n",
    "- **Computer Science**: The study of problems and problem-solving\n",
    "- **Programming**: Encoding algorithms into executable code\n",
    "- **Data Structures**: Ways to organize and store data efficiently\n",
    "- **Algorithms**: Step-by-step procedures for solving problems\n",
    "\n",
    "### Python Fundamentals Reviewed:\n",
    "- Basic data types (int, float, string, bool)\n",
    "- Collection types (list, tuple, dict, set)\n",
    "- Control structures (if/else, for, while)\n",
    "- Functions and exception handling\n",
    "- Object-oriented programming basics\n",
    "- Input/output and string formatting\n",
    "\n",
    "### Why This Matters:\n",
    "Understanding these fundamentals is crucial because:\n",
    "1. They form the building blocks for more complex data structures\n",
    "2. Efficient problem-solving requires choosing the right tools\n",
    "3. Performance differences can be dramatic (as we saw with list vs set)\n",
    "4. Good programming practices make code more maintainable and reliable"
   ]
  },
  {
   "cell_type": "markdown",
   "metadata": {},
   "source": [
    "## Exercises\n",
    "\n",
    "1. **Data Type Exploration**: Create variables of each basic Python data type and use the `type()` function to verify their types.\n",
    "\n",
    "2. **Collection Operations**: Create a program that demonstrates the difference between lists, tuples, sets, and dictionaries by trying to modify each one.\n",
    "\n",
    "3. **Function Practice**: Write a function that takes a list of numbers and returns a dictionary with statistics (min, max, average, count).\n",
    "\n",
    "4. **Class Design**: Design a `Book` class with attributes for title, author, ISBN, and pages. Include methods for displaying book information.\n",
    "\n",
    "5. **Performance Comparison**: Write a program that compares the performance of searching for an item in a list versus a set with 10,000 elements.\n",
    "\n",
    "6. **List Comprehensions**: Rewrite the following traditional loop as a list comprehension:\n",
    "   ```python\n",
    "   result = []\n",
    "   for i in range(10):\n",
    "       if i % 3 == 0:\n",
    "           result.append(i ** 2)\n",
    "   ```\n",
    "\n",
    "7. **Exception Handling**: Write a calculator function that safely handles division by zero and invalid input types.\n"
   ]
  }
 ],
 "metadata": {
  "kernelspec": {
   "display_name": "Python 3",
   "language": "python",
   "name": "python3"
  },
  "language_info": {
   "codemirror_mode": {
    "name": "ipython",
    "version": 3
   },
   "file_extension": ".py",
   "mimetype": "text/x-python",
   "name": "python",
   "nbconvert_exporter": "python",
   "pygments_lexer": "ipython3",
   "version": "3.8.5"
  }
 },
 "nbformat": 4,
 "nbformat_minor": 4
}